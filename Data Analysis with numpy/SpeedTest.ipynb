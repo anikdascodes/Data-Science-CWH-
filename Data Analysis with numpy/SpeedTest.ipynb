{
 "cells": [
  {
   "cell_type": "code",
   "execution_count": 7,
   "id": "610f89ec-d93b-4001-a7e3-6df4d525a994",
   "metadata": {},
   "outputs": [
    {
     "name": "stdout",
     "output_type": "stream",
     "text": [
      "[0, 2, 4, 6, 8, 10, 12, 14, 16, 18]\n",
      "0.05759572982788086\n"
     ]
    }
   ],
   "source": [
    "# Using Python list\n",
    "\n",
    "import numpy as np\n",
    "import time\n",
    "\n",
    "\n",
    "size = 1_000_000\n",
    "\n",
    "l1 = list(range(size))\n",
    "l2 = list(range(size))\n",
    "\n",
    "\n",
    "start = time.time()\n",
    "add = [x+y for x , y in zip(l1,l2)]\n",
    "end = time.time()\n",
    "print(add[0:10])\n",
    "\n",
    "print(end - start)\n"
   ]
  },
  {
   "cell_type": "code",
   "execution_count": 8,
   "id": "5606f246-ed51-416f-bb7f-720dfa44d10e",
   "metadata": {},
   "outputs": [
    {
     "name": "stdout",
     "output_type": "stream",
     "text": [
      "[ 0  2  4  6  8 10 12 14 16 18]\n",
      "0.00961756706237793\n"
     ]
    }
   ],
   "source": [
    "# Using Numpy Array\n",
    "\n",
    "import numpy as np\n",
    "import time\n",
    "\n",
    "\n",
    "size = 1_000_000\n",
    "\n",
    "l1 = np.array(list(range(size)))\n",
    "l2 = np.array(list(range(size)))\n",
    "\n",
    "\n",
    "start = time.time()\n",
    "add = l1+l2\n",
    "end = time.time()\n",
    "print(add[0:10])\n",
    "\n",
    "print(end - start)\n"
   ]
  },
  {
   "cell_type": "code",
   "execution_count": 2,
   "id": "5ad7a59e-7ccd-4300-8fae-08f21e57d4c9",
   "metadata": {},
   "outputs": [],
   "source": [
    "l1 = [1,2,3]\n",
    "l2 = [6,7,8]"
   ]
  },
  {
   "cell_type": "code",
   "execution_count": 3,
   "id": "df5acdb3-bf9c-4d91-a1a0-a3a44a168fed",
   "metadata": {},
   "outputs": [
    {
     "data": {
      "text/plain": [
       "[(1, 6), (2, 7), (3, 8)]"
      ]
     },
     "execution_count": 3,
     "metadata": {},
     "output_type": "execute_result"
    }
   ],
   "source": [
    "list(zip(l1,l2))"
   ]
  },
  {
   "cell_type": "code",
   "execution_count": 10,
   "id": "988c4e0b-fc50-4463-a3a4-cdd1523ad682",
   "metadata": {},
   "outputs": [],
   "source": [
    "arr = np.array([[1,2,3],[4,5,6]])"
   ]
  },
  {
   "cell_type": "code",
   "execution_count": 11,
   "id": "60ba76d6-911f-4f2a-9f40-b8df54a2d3cf",
   "metadata": {},
   "outputs": [
    {
     "data": {
      "text/plain": [
       "numpy.ndarray"
      ]
     },
     "execution_count": 11,
     "metadata": {},
     "output_type": "execute_result"
    }
   ],
   "source": [
    "type(arr)"
   ]
  },
  {
   "cell_type": "code",
   "execution_count": 12,
   "id": "c08aabf1-1cc2-4bed-b69c-60e505bc4935",
   "metadata": {},
   "outputs": [
    {
     "data": {
      "text/plain": [
       "(2, 3)"
      ]
     },
     "execution_count": 12,
     "metadata": {},
     "output_type": "execute_result"
    }
   ],
   "source": [
    "arr.shape"
   ]
  },
  {
   "cell_type": "markdown",
   "id": "3f614904",
   "metadata": {},
   "source": [
    "## Exercises for Practice"
   ]
  },
  {
   "cell_type": "code",
   "execution_count": 1,
   "id": "5096c005-e076-4adc-a8f0-9057ba670e0a",
   "metadata": {},
   "outputs": [
    {
     "name": "stdout",
     "output_type": "stream",
     "text": [
      "Array Shape: (91,)\n"
     ]
    }
   ],
   "source": [
    "# Create a NumPy array with values from 10 to 100 and print its shape.\n",
    "\n",
    "import numpy as np\n",
    "\n",
    "# Creating the NumPy array\n",
    "arr = np.arange(10, 101)\n",
    "\n",
    "# Printing the array shape\n",
    "print(\"Array Shape:\", arr.shape)\n"
   ]
  },
  {
   "cell_type": "code",
   "execution_count": 2,
   "id": "a6ce24ec",
   "metadata": {},
   "outputs": [
    {
     "name": "stdout",
     "output_type": "stream",
     "text": [
      "Time taken for Python list multiplication: 0.0928 seconds\n",
      "Time taken for NumPy array multiplication: 0.0052 seconds\n",
      "NumPy is 17.9x faster\n"
     ]
    }
   ],
   "source": [
    "# Compare the time taken to multiply two Python lists vs. two NumPy arrays.\n",
    "\n",
    "import time\n",
    "import numpy as np\n",
    "\n",
    "# Create Python lists and NumPy arrays with same values\n",
    "list1 = list(range(1000000))\n",
    "list2 = list(range(1000000))\n",
    "arr1 = np.array(list1)\n",
    "arr2 = np.array(list2)\n",
    "\n",
    "# Time Python list multiplication\n",
    "start_time = time.time()\n",
    "list_result = [x*y for x,y in zip(list1, list2)]\n",
    "list_time = time.time() - start_time\n",
    "\n",
    "# Time NumPy array multiplication \n",
    "start_time = time.time()\n",
    "array_result = arr1 * arr2\n",
    "array_time = time.time() - start_time\n",
    "\n",
    "print(f\"Time taken for Python list multiplication: {list_time:.4f} seconds\")\n",
    "print(f\"Time taken for NumPy array multiplication: {array_time:.4f} seconds\")\n",
    "print(f\"NumPy is {list_time/array_time:.1f}x faster\")\n",
    "\n"
   ]
  },
  {
   "cell_type": "code",
   "execution_count": 3,
   "id": "ceb882da",
   "metadata": {},
   "outputs": [
    {
     "name": "stdout",
     "output_type": "stream",
     "text": [
      "Memory size of array: 8,000,000 bytes\n",
      "Memory size of array: 7.63 MB\n"
     ]
    }
   ],
   "source": [
    "# Find the memory size of a NumPy array with 1 million elements.\n",
    "\n",
    "# Create a NumPy array with 1 million elements\n",
    "arr = np.arange(1000000)\n",
    "\n",
    "# Get memory size in bytes\n",
    "memory_size = arr.nbytes\n",
    "\n",
    "# Convert to megabytes for better readability\n",
    "memory_size_mb = memory_size / (1024 * 1024)\n",
    "\n",
    "print(f\"Memory size of array: {memory_size:,} bytes\")\n",
    "print(f\"Memory size of array: {memory_size_mb:.2f} MB\")\n"
   ]
  },
  {
   "cell_type": "code",
   "execution_count": null,
   "id": "da61a7e9",
   "metadata": {},
   "outputs": [],
   "source": []
  }
 ],
 "metadata": {
  "kernelspec": {
   "display_name": "numpyenv",
   "language": "python",
   "name": "python3"
  },
  "language_info": {
   "codemirror_mode": {
    "name": "ipython",
    "version": 3
   },
   "file_extension": ".py",
   "mimetype": "text/x-python",
   "name": "python",
   "nbconvert_exporter": "python",
   "pygments_lexer": "ipython3",
   "version": "3.13.3"
  }
 },
 "nbformat": 4,
 "nbformat_minor": 5
}
